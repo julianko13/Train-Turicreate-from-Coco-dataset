{
 "cells": [
  {
   "cell_type": "code",
   "execution_count": 2,
   "metadata": {},
   "outputs": [],
   "source": [
    "import turicreate as tc"
   ]
  },
  {
   "cell_type": "code",
   "execution_count": 3,
   "metadata": {},
   "outputs": [],
   "source": [
    "train_data = tc.SFrame('/Volumes/Data/yoloTiny.sframe')\n",
    "val_data = tc.SFrame('/Volumes/Data/yoloVal.sframe')"
   ]
  },
  {
   "cell_type": "code",
   "execution_count": 4,
   "metadata": {},
   "outputs": [],
   "source": [
    "model = tc.object_detector.create(train_data,max_iterations: 10000)\n",
    "#model = tc.load_model('/Volumes/Data/yoloTiny.model')"
   ]
  },
  {
   "cell_type": "code",
   "execution_count": 8,
   "metadata": {},
   "outputs": [
    {
     "name": "stdout",
     "output_type": "stream",
     "text": [
      "Predicting   1/100\n",
      "Predicting  65/100\n",
      "Predicting 100/100\n",
      "Predicting   1/100\n",
      "Predicting  65/100\n",
      "Predicting 100/100\n"
     ]
    }
   ],
   "source": [
    "val_data = tc.SFrame('/Volumes/Data/yoloVal.sframe')[:100]\n",
    "val_data['predictions'] = model.predict(val_data)\n",
    "metrics = model.evaluate(val_data)"
   ]
  },
  {
   "cell_type": "code",
   "execution_count": 9,
   "metadata": {},
   "outputs": [],
   "source": [
    "val_data['image_with_predictions'] = \\\n",
    "    tc.object_detector.util.draw_bounding_boxes(val_data['image'], val_data['predictions'])\n"
   ]
  },
  {
   "cell_type": "code",
   "execution_count": 10,
   "metadata": {},
   "outputs": [
    {
     "data": {
      "text/html": [
       "<pre>Materializing SFrame</pre>"
      ],
      "text/plain": [
       "Materializing SFrame"
      ]
     },
     "metadata": {},
     "output_type": "display_data"
    }
   ],
   "source": [
    "val_data[['image','image_with_predictions']].explore()"
   ]
  },
  {
   "cell_type": "code",
   "execution_count": 9,
   "metadata": {},
   "outputs": [
    {
     "name": "stderr",
     "output_type": "stream",
     "text": [
      "/Users/julianko/vent3/lib/python3.6/site-packages/coremltools/_deps/__init__.py:100: DeprecationWarning: The 'warn' function is deprecated, use 'warning' instead\n",
      "  % (keras.__version__, KERAS_MAX_VERSION))\n",
      "WARNING:root:Keras version 2.2.0 detected. Last version known to be fully compatible of Keras is 2.1.6 .\n",
      "/Users/julianko/vent3/lib/python3.6/site-packages/coremltools/_deps/__init__.py:118: DeprecationWarning: The 'warn' function is deprecated, use 'warning' instead\n",
      "  % (tensorflow.__version__, TF_MAX_VERSION))\n",
      "WARNING:root:TensorFlow version 1.8.0 detected. Last version known to be fully compatible is 1.5.0 .\n"
     ]
    }
   ],
   "source": [
    "model.save('/Volumes/Data/dog.model')\n",
    "model.export_coreml('/Volumes/Data/Dog.mlmodel')"
   ]
  }
 ],
 "metadata": {
  "kernelspec": {
   "display_name": "Python 3",
   "language": "python",
   "name": "python3"
  },
  "language_info": {
   "codemirror_mode": {
    "name": "ipython",
    "version": 3
   },
   "file_extension": ".py",
   "mimetype": "text/x-python",
   "name": "python",
   "nbconvert_exporter": "python",
   "pygments_lexer": "ipython3",
   "version": "3.6.5"
  }
 },
 "nbformat": 4,
 "nbformat_minor": 2
}
