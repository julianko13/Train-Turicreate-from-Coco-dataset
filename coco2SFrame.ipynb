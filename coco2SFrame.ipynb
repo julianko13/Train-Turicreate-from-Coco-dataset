{
 "cells": [
  {
   "cell_type": "code",
   "execution_count": 1,
   "metadata": {},
   "outputs": [],
   "source": [
    "import turicreate as tc\n",
    "from turicreate import SFrameBuilder\n",
    "import os\n",
    "from pycocotools.coco import COCO\n",
    "import numpy as np\n",
    "import skimage.io as io\n",
    "import matplotlib.pyplot as plt\n",
    "import pylab\n",
    "from pathlib import Path\n",
    "import random"
   ]
  },
  {
   "cell_type": "code",
   "execution_count": 2,
   "metadata": {},
   "outputs": [],
   "source": [
    "dataDir='/Volumes/Data/cocodata'\n",
    "dataVal='val2017'\n",
    "annVal='{}/annotations/instances_{}.json'.format(dataDir,dataVal)\n",
    "dataTrain='train2017'\n",
    "annTrain='{}/annotations/instances_{}.json'.format(dataDir,dataTrain)"
   ]
  },
  {
   "cell_type": "code",
   "execution_count": 3,
   "metadata": {},
   "outputs": [
    {
     "name": "stdout",
     "output_type": "stream",
     "text": [
      "loading annotations into memory...\n",
      "Done (t=0.94s)\n",
      "creating index...\n",
      "index created!\n",
      "loading annotations into memory...\n",
      "Done (t=22.58s)\n",
      "creating index...\n",
      "index created!\n"
     ]
    }
   ],
   "source": [
    "# initialize COCO api for instance annotations\n",
    "cocoVal=COCO(annVal)\n",
    "cocoTrain=COCO(annTrain)"
   ]
  },
  {
   "cell_type": "code",
   "execution_count": 4,
   "metadata": {},
   "outputs": [],
   "source": [
    "catsVal = cocoVal.loadCats(cocoVal.getCatIds())\n",
    "catsTrain = cocoTrain.loadCats(cocoTrain.getCatIds())"
   ]
  },
  {
   "cell_type": "code",
   "execution_count": 5,
   "metadata": {},
   "outputs": [],
   "source": [
    "def getCatName(catID):\n",
    "    which = next(i for i,x in enumerate(catsTrain) if x['id']==catID)\n",
    "    name = catsTrain[which][\"name\"]\n",
    "    return name\n",
    "\n"
   ]
  },
  {
   "cell_type": "code",
   "execution_count": 6,
   "metadata": {},
   "outputs": [
    {
     "name": "stdout",
     "output_type": "stream",
     "text": [
      "COCO categories: \n",
      "person bicycle car motorcycle airplane bus train truck boat traffic light fire hydrant stop sign parking meter bench bird cat dog horse sheep cow elephant bear zebra giraffe backpack umbrella handbag tie suitcase frisbee skis snowboard sports ball kite baseball bat baseball glove skateboard surfboard tennis racket bottle wine glass cup fork knife spoon bowl banana apple sandwich orange broccoli carrot hot dog pizza donut cake chair couch potted plant bed dining table toilet tv laptop mouse remote keyboard cell phone microwave oven toaster sink refrigerator book clock vase scissors teddy bear hair drier toothbrush\n",
      "\n",
      "COCO supercategories: \n",
      "animal food accessory kitchen furniture person appliance vehicle electronic outdoor sports indoor\n"
     ]
    }
   ],
   "source": [
    "\n",
    "nms=[cat['name'] for cat in catsVal]\n",
    "print('COCO categories: \\n{}\\n'.format(' '.join(nms)))\n",
    "nms = set([cat['supercategory'] for cat in catsVal])\n",
    "print('COCO supercategories: \\n{}'.format(' '.join(nms)))\n"
   ]
  },
  {
   "cell_type": "code",
   "execution_count": 7,
   "metadata": {},
   "outputs": [
    {
     "name": "stdout",
     "output_type": "stream",
     "text": [
      "11662 49\n"
     ]
    }
   ],
   "source": [
    "# get all images containing given categories, select one at random\n",
    "imageIdSet=set()\n",
    "catNms=['person','dog','cat']\n",
    "catIds = cocoTrain.getCatIds(catNms=catNms);\n",
    "imgIds = cocoTrain.getImgIds(catIds=catIds);\n",
    "#print(catIds, imgIds)\n",
    "#imgIds = coco.getImgIds(imgIds = [324158])\n",
    "#img = cocoTrain.loadImgs(imgIds[np.random.randint(0,len(imgIds))])[0]\n",
    "for catId in catIds:\n",
    "    thisImgIds = cocoTrain.getImgIds(catIds=catId)\n",
    "    random.shuffle(thisImgIds)\n",
    "    thisImgIds = thisImgIds[:4000]\n",
    "    #print(len(thisImgIds))\n",
    "    imageIdSet.update(thisImgIds)\n",
    "print(len(imageIdSet), len(imgIds))"
   ]
  },
  {
   "cell_type": "code",
   "execution_count": 8,
   "metadata": {},
   "outputs": [
    {
     "data": {
      "application/vnd.jupyter.widget-view+json": {
       "model_id": "f517038e20cc402596895ad755b55dbe",
       "version_major": 2,
       "version_minor": 0
      },
      "text/plain": [
       "Output(layout=Layout(border='1px solid black'))"
      ]
     },
     "metadata": {},
     "output_type": "display_data"
    }
   ],
   "source": [
    "sb = SFrameBuilder([tc.Image,list],column_names=['image','annotations'])\n",
    "import ipywidgets as widgets\n",
    "from IPython.display import display\n",
    "from decimal import Decimal\n",
    "out = widgets.Output(layout={'border': '1px solid black'})\n",
    "twoinplaces = Decimal('0.01')\n",
    "display(out)\n",
    "\n",
    "for index,imageId in enumerate(imageIdSet):\n",
    "    img = cocoTrain.loadImgs([imageId])\n",
    "    imgName = img[0]['file_name']\n",
    "    imgPath = '%s/images/%s/%s'%(dataDir,dataTrain,imgName)\n",
    "    out.clear_output(wait=True)\n",
    "    with out:\n",
    "        #image.show()\n",
    "        print(f'process image number: {imgName}, progress: {Decimal((index + 1) / len(imageIdSet) * 100).quantize(twoinplaces)}%')\n",
    "    image=tc.Image(imgPath)\n",
    "    annIds = cocoTrain.getAnnIds(imgIds=[imageId])\n",
    "    anns = cocoTrain.loadAnns(annIds)\n",
    "    annotations=[]\n",
    "    for ann in anns:\n",
    "        thisCatId = ann[\"category_id\"]\n",
    "        if thisCatId in catIds:\n",
    "            name = getCatName(thisCatId)\n",
    "            bbox = ann['bbox']\n",
    "            #print(f' bounding box: {bbox}, this cat: {thisCatId}')\n",
    "            #coco use top/left coordinate, turicreate needs center\n",
    "            bboxDict = {'width': bbox[2], 'height': bbox[3], 'x':bbox[0] + bbox[2] / 2, 'y':bbox[1] + bbox[3] / 2}\n",
    "            annotation={'label':name, 'coordinates': bboxDict}\n",
    "            annotations.append(annotation)\n",
    "    sb.append([image,annotations])\n",
    "    \n",
    "sf = sb.close() \n",
    "#sf['image_with_ground_truth'] = \\\n",
    "#    tc.object_detector.util.draw_bounding_boxes(sf['image'], sf['annotations'])\n",
    "#sf.explore()"
   ]
  },
  {
   "cell_type": "code",
   "execution_count": 9,
   "metadata": {},
   "outputs": [],
   "source": [
    "sf.save('/Volumes/Data/yoloTiny.sframe')\n",
    "## sframe above is for training"
   ]
  },
  {
   "cell_type": "code",
   "execution_count": 3,
   "metadata": {},
   "outputs": [
    {
     "data": {
      "text/html": [
       "<pre>Materializing SFrame</pre>"
      ],
      "text/plain": [
       "Materializing SFrame"
      ]
     },
     "metadata": {},
     "output_type": "display_data"
    }
   ],
   "source": [
    "#sf['image_with_ground_truth'] = \\\n",
    "#    tc.object_detector.util.draw_bounding_boxes(sf['image'], sf['annotations'])\n",
    "#sf.explore()"
   ]
  },
  {
   "cell_type": "code",
   "execution_count": 7,
   "metadata": {},
   "outputs": [
    {
     "name": "stdout",
     "output_type": "stream",
     "text": [
      "500\n",
      "184\n",
      "177\n"
     ]
    }
   ],
   "source": [
    "#validation\n",
    "imageIdSet=set()\n",
    "catNms=['person','cat','dog']\n",
    "catIds = cocoVal.getCatIds(catNms=catNms);\n",
    "imgIds = cocoVal.getImgIds(catIds=catIds);\n",
    "#print(catIds, imgIds)\n",
    "#imgIds = coco.getImgIds(imgIds = [324158])\n",
    "#img = cocoTrain.loadImgs(imgIds[np.random.randint(0,len(imgIds))])[0]\n",
    "for catId in catIds:\n",
    "    thisImgIds = cocoVal.getImgIds(catIds=catId)\n",
    "    random.shuffle(thisImgIds)\n",
    "    thisImgIds = thisImgIds[:500]\n",
    "    print(len(thisImgIds))\n",
    "    imageIdSet.update(thisImgIds)"
   ]
  },
  {
   "cell_type": "code",
   "execution_count": 8,
   "metadata": {},
   "outputs": [
    {
     "data": {
      "application/vnd.jupyter.widget-view+json": {
       "model_id": "9d07f704365a4af59996b88152fe34fa",
       "version_major": 2,
       "version_minor": 0
      },
      "text/plain": [
       "Output(layout=Layout(border='1px solid black'))"
      ]
     },
     "metadata": {},
     "output_type": "display_data"
    }
   ],
   "source": [
    "sb_val = SFrameBuilder([tc.Image,list],column_names=['image','annotations'])\n",
    "import ipywidgets as widgets\n",
    "from IPython.display import display\n",
    "from decimal import Decimal\n",
    "out = widgets.Output(layout={'border': '1px solid black'})\n",
    "twoinplaces = Decimal('0.01')\n",
    "display(out)\n",
    "\n",
    "for index,imageId in enumerate(imageIdSet):\n",
    "    img = cocoVal.loadImgs([imageId])\n",
    "    imgName = img[0]['file_name']\n",
    "    imgPath = '%s/images/%s/%s'%(dataDir,dataVal,imgName)\n",
    "    out.clear_output(wait=True)\n",
    "    with out:\n",
    "        #image.show()\n",
    "        print(f'process image number: {imgName}, progress: {Decimal((index + 1) / len(imageIdSet) * 100).quantize(twoinplaces)}%')\n",
    "    image=tc.Image(imgPath)\n",
    "    annIds = cocoTrain.getAnnIds(imgIds=[imageId])\n",
    "    anns = cocoTrain.loadAnns(annIds)\n",
    "    annotations=[]\n",
    "    for ann in anns:\n",
    "        thisCatId = ann[\"category_id\"]\n",
    "        if thisCatId in catIds:\n",
    "            name = getCatName(thisCatId)\n",
    "            bbox = ann['bbox']\n",
    "            #print(f' bounding box: {bbox}, this cat: {thisCatId}')\n",
    "            #coco use top/left coordinate, turicreate needs center\n",
    "            bboxDict = {'width': bbox[2], 'height': bbox[3], 'x':bbox[0] + bbox[2] / 2, 'y':bbox[1] + bbox[3] / 2}\n",
    "            annotation={'label':name, 'coordinates': bboxDict}\n",
    "            annotations.append(annotation)\n",
    "    sb_val.append([image,annotations])\n",
    "    \n",
    "sf = sb_val.close() "
   ]
  },
  {
   "cell_type": "code",
   "execution_count": 9,
   "metadata": {},
   "outputs": [],
   "source": [
    "sf.save('/Volumes/Data/yoloVal.sframe')"
   ]
  },
  {
   "cell_type": "code",
   "execution_count": null,
   "metadata": {},
   "outputs": [],
   "source": []
  }
 ],
 "metadata": {
  "kernelspec": {
   "display_name": "Python 3",
   "language": "python",
   "name": "python3"
  },
  "language_info": {
   "codemirror_mode": {
    "name": "ipython",
    "version": 3
   },
   "file_extension": ".py",
   "mimetype": "text/x-python",
   "name": "python",
   "nbconvert_exporter": "python",
   "pygments_lexer": "ipython3",
   "version": "3.6.5"
  }
 },
 "nbformat": 4,
 "nbformat_minor": 2
}
