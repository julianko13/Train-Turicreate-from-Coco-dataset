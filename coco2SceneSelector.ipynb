{
 "cells": [
  {
   "cell_type": "code",
   "execution_count": 1,
   "metadata": {},
   "outputs": [],
   "source": [
    "import os\n",
    "import shutil\n",
    "from pycocotools.coco import COCO\n",
    "import numpy as np\n",
    "import skimage.io as io\n",
    "import matplotlib.pyplot as plt\n",
    "import pylab\n",
    "from pathlib import Path\n",
    "import random"
   ]
  },
  {
   "cell_type": "code",
   "execution_count": 2,
   "metadata": {},
   "outputs": [],
   "source": [
    "## Creating the folder with symbolic link image to save space, thus you must authorize the folder access for \n",
    "## cocodata directory in Scene Selector.\n",
    "dataDir='/Volumes/Data/cocodata'\n",
    "dataVal='val2017'\n",
    "annVal='{}/annotations/instances_{}.json'.format(dataDir,dataVal)\n",
    "dataTrain='train2017'\n",
    "annTrain='{}/annotations/instances_{}.json'.format(dataDir,dataTrain)\n",
    "exportTrainDir='/Volumes/AV_Workspace/export/train'\n",
    "exportValDir='/Volumes/AV_Workspace/export/val'\n",
    "if not os.path.exists(exportTrainDir):\n",
    "    os.makedirs(exportTrainDir)\n",
    "if not os.path.exists(exportValDir):\n",
    "    os.makedirs(exportValDir)"
   ]
  },
  {
   "cell_type": "code",
   "execution_count": 3,
   "metadata": {},
   "outputs": [
    {
     "name": "stdout",
     "output_type": "stream",
     "text": [
      "loading annotations into memory...\n",
      "Done (t=0.57s)\n",
      "creating index...\n",
      "index created!\n",
      "loading annotations into memory...\n",
      "Done (t=14.45s)\n",
      "creating index...\n",
      "index created!\n"
     ]
    }
   ],
   "source": [
    "# initialize COCO api for instance annotations\n",
    "cocoVal=COCO(annVal)\n",
    "cocoTrain=COCO(annTrain)"
   ]
  },
  {
   "cell_type": "code",
   "execution_count": 4,
   "metadata": {},
   "outputs": [],
   "source": [
    "catsVal = cocoVal.loadCats(cocoVal.getCatIds())\n",
    "catsTrain = cocoTrain.loadCats(cocoTrain.getCatIds())"
   ]
  },
  {
   "cell_type": "code",
   "execution_count": 5,
   "metadata": {},
   "outputs": [],
   "source": [
    "def getCatName(catID):\n",
    "    which = next(i for i,x in enumerate(catsTrain) if x['id']==catID)\n",
    "    name = catsTrain[which][\"name\"]\n",
    "    return name\n",
    "\n"
   ]
  },
  {
   "cell_type": "code",
   "execution_count": 6,
   "metadata": {},
   "outputs": [
    {
     "name": "stdout",
     "output_type": "stream",
     "text": [
      "COCO categories: \n",
      "person bicycle car motorcycle airplane bus train truck boat traffic light fire hydrant stop sign parking meter bench bird cat dog horse sheep cow elephant bear zebra giraffe backpack umbrella handbag tie suitcase frisbee skis snowboard sports ball kite baseball bat baseball glove skateboard surfboard tennis racket bottle wine glass cup fork knife spoon bowl banana apple sandwich orange broccoli carrot hot dog pizza donut cake chair couch potted plant bed dining table toilet tv laptop mouse remote keyboard cell phone microwave oven toaster sink refrigerator book clock vase scissors teddy bear hair drier toothbrush\n",
      "\n",
      "COCO supercategories: \n",
      "indoor sports kitchen vehicle accessory animal electronic appliance food furniture person outdoor\n"
     ]
    }
   ],
   "source": [
    "\n",
    "nms=[cat['name'] for cat in catsVal]\n",
    "print('COCO categories: \\n{}\\n'.format(' '.join(nms)))\n",
    "nms = set([cat['supercategory'] for cat in catsVal])\n",
    "print('COCO supercategories: \\n{}'.format(' '.join(nms)))\n"
   ]
  },
  {
   "cell_type": "code",
   "execution_count": 7,
   "metadata": {},
   "outputs": [
    {
     "name": "stdout",
     "output_type": "stream",
     "text": [
      "13974 0\n"
     ]
    }
   ],
   "source": [
    "# get all images containing given categories, select one at random\n",
    "imageIdSet=set()\n",
    "catNms=['dog','cat','person','bicycle','car','motocycle','bus','ball','cup','tv','laptop','pizza']\n",
    "catIds = cocoTrain.getCatIds(catNms=catNms);\n",
    "imgIds = cocoTrain.getImgIds(catIds=catIds);\n",
    "#print(catIds, imgIds)\n",
    "#imgIds = coco.getImgIds(imgIds = [324158])\n",
    "#img = cocoTrain.loadImgs(imgIds[np.random.randint(0,len(imgIds))])[0]\n",
    "for catId in catIds:\n",
    "    thisImgIds = cocoTrain.getImgIds(catIds=catId)\n",
    "    random.shuffle(thisImgIds)\n",
    "    thisImgIds = thisImgIds[:1500]\n",
    "    #print(len(thisImgIds))\n",
    "    imageIdSet.update(thisImgIds)\n",
    "print(len(imageIdSet), len(imgIds))"
   ]
  },
  {
   "cell_type": "code",
   "execution_count": 8,
   "metadata": {},
   "outputs": [
    {
     "data": {
      "application/vnd.jupyter.widget-view+json": {
       "model_id": "69ec8bacb87046db99db96576ef65902",
       "version_major": 2,
       "version_minor": 0
      },
      "text/plain": [
       "Output(layout=Layout(border='1px solid black'))"
      ]
     },
     "metadata": {},
     "output_type": "display_data"
    }
   ],
   "source": [
    "import xml.etree.ElementTree as ET\n",
    "import ipywidgets as widgets\n",
    "from IPython.display import display\n",
    "from decimal import Decimal\n",
    "from shutil import copyfile\n",
    "import xml.etree.ElementTree as ET\n",
    "\n",
    "out = widgets.Output(layout={'border': '1px solid black'})\n",
    "twoinplaces = Decimal('0.01')\n",
    "display(out)\n",
    "\n",
    "for index,imageId in enumerate(imageIdSet):\n",
    "    img = cocoTrain.loadImgs([imageId])\n",
    "    imgName = img[0]['file_name']\n",
    "    imgPath = '%s/images/%s/%s'%(dataDir,dataTrain,imgName)\n",
    "    out.clear_output(wait=True)\n",
    "    with out:\n",
    "        #image.show()\n",
    "        print(f'process image number: {imgName}, progress: {Decimal((index + 1) / len(imageIdSet) * 100).quantize(twoinplaces)}%')\n",
    "    root = ET.Element('annotation')\n",
    "    filenameElement = ET.Element('filename',{})\n",
    "    filenameElement.text = imgName\n",
    "    root.append(filenameElement)\n",
    "    ##not sure if retrieving image size from Scene Selector will be faster\n",
    "    image = io.imread(imgPath)\n",
    "    sizeElement = ET.Element('size')\n",
    "    widthElement = ET.Element('width')\n",
    "    widthElement.text = str(image.shape[1])\n",
    "    heightElement = ET.Element('height')\n",
    "    heightElement.text = str(image.shape[0])\n",
    "    sizeElement.append(widthElement)\n",
    "    sizeElement.append(heightElement)\n",
    "    root.append(sizeElement)\n",
    "    \n",
    "    targetPath = '{}/{}'.format(exportTrainDir,imgName)\n",
    "    if os.path.exists(targetPath):\n",
    "        os.remove(targetPath)\n",
    "    #os.symlink(imgPath,targetPath)\n",
    "    shutil.copy(imgPath,targetPath)\n",
    "    annIds = cocoTrain.getAnnIds(imgIds=[imageId])\n",
    "    anns = cocoTrain.loadAnns(annIds)\n",
    "    \n",
    "    for ann in anns:\n",
    "        objectElement = ET.Element('object')\n",
    "        thisCatId = ann[\"category_id\"]\n",
    "        if thisCatId in catIds:\n",
    "            name = getCatName(thisCatId)\n",
    "            nameElement = ET.Element('name')\n",
    "            nameElement.text = name\n",
    "            objectElement.append(nameElement)\n",
    "            bboxElement = ET.Element('bndbox')\n",
    "            bbox = ann['bbox']\n",
    "            #print(f' bounding box: {bbox}, this cat: {thisCatId}')\n",
    "            #coco use top/left coordinate, turicreate needs center\n",
    "            xminElement = ET.Element('xmin')\n",
    "            yminElement = ET.Element('ymin')\n",
    "            xmaxElement = ET.Element('xmax')\n",
    "            ymaxElement = ET.Element('ymax')\n",
    "            xminElement.text = str(bbox[0])\n",
    "            yminElement.text = str(bbox[1])\n",
    "            xmaxElement.text = str(bbox[0] + bbox[2])\n",
    "            ymaxElement.text = str(bbox[1] + bbox[3])\n",
    "            bboxElement.extend([xminElement,xmaxElement,yminElement,ymaxElement])\n",
    "            objectElement.append(bboxElement)\n",
    "            root.append(objectElement)\n",
    "    if (len(root.findall('object')) > 0):\n",
    "        imgNameStem = Path(imgName).stem\n",
    "        tree = ET.ElementTree(element=root)\n",
    "        tree.write('{}/{}.annotations'.format(exportTrainDir,imgNameStem))\n",
    "    \n"
   ]
  },
  {
   "cell_type": "code",
   "execution_count": 9,
   "metadata": {},
   "outputs": [
    {
     "name": "stdout",
     "output_type": "stream",
     "text": [
      "100\n",
      "100\n",
      "100\n",
      "100\n",
      "100\n",
      "100\n",
      "100\n",
      "100\n",
      "100\n",
      "100\n"
     ]
    }
   ],
   "source": [
    "#validation\n",
    "imageIdSet=set()\n",
    "catNms=['dog','cat','person','bicycle','car','motocycle','bus','ball','cup','tv','laptop','pizza']\n",
    "catIds = cocoVal.getCatIds(catNms=catNms);\n",
    "imgIds = cocoVal.getImgIds(catIds=catIds);\n",
    "#print(catIds, imgIds)\n",
    "#imgIds = coco.getImgIds(imgIds = [324158])\n",
    "#img = cocoTrain.loadImgs(imgIds[np.random.randint(0,len(imgIds))])[0]\n",
    "for catId in catIds:\n",
    "    thisImgIds = cocoVal.getImgIds(catIds=catId)\n",
    "    random.shuffle(thisImgIds)\n",
    "    thisImgIds = thisImgIds[:100]\n",
    "    print(len(thisImgIds))\n",
    "    imageIdSet.update(thisImgIds)"
   ]
  },
  {
   "cell_type": "code",
   "execution_count": 10,
   "metadata": {},
   "outputs": [
    {
     "data": {
      "application/vnd.jupyter.widget-view+json": {
       "model_id": "2cc86723347145d8916a5c7cd73eaa16",
       "version_major": 2,
       "version_minor": 0
      },
      "text/plain": [
       "Output(layout=Layout(border='1px solid black'))"
      ]
     },
     "metadata": {},
     "output_type": "display_data"
    }
   ],
   "source": [
    "import xml.etree.ElementTree as ET\n",
    "import ipywidgets as widgets\n",
    "from IPython.display import display\n",
    "from decimal import Decimal\n",
    "from shutil import copyfile\n",
    "import xml.etree.ElementTree as ET\n",
    "\n",
    "out = widgets.Output(layout={'border': '1px solid black'})\n",
    "twoinplaces = Decimal('0.01')\n",
    "display(out)\n",
    "\n",
    "for index,imageId in enumerate(imageIdSet):\n",
    "    img = cocoVal.loadImgs([imageId])\n",
    "    imgName = img[0]['file_name']\n",
    "    imgPath = '%s/images/%s/%s'%(dataDir,dataVal,imgName)\n",
    "    out.clear_output(wait=True)\n",
    "    with out:\n",
    "        #image.show()\n",
    "        print(f'process image number: {imgName}, progress: {Decimal((index + 1) / len(imageIdSet) * 100).quantize(twoinplaces)}%')\n",
    "    root = ET.Element('annotation')\n",
    "    filenameElement = ET.Element('filename',{})\n",
    "    filenameElement.text = imgName\n",
    "    root.append(filenameElement)\n",
    "    \n",
    "    image = io.imread(imgPath)\n",
    "    sizeElement = ET.Element('size')\n",
    "    widthElement = ET.Element('width')\n",
    "    widthElement.text = str(image.shape[1])\n",
    "    heightElement = ET.Element('height')\n",
    "    heightElement.text = str(image.shape[0])\n",
    "    sizeElement.append(widthElement)\n",
    "    sizeElement.append(heightElement)\n",
    " \n",
    "    root.append(sizeElement)\n",
    "    targetPath = '{}/{}'.format(exportValDir,imgName)\n",
    "    if os.path.exists(targetPath):\n",
    "        os.remove(targetPath)\n",
    "    #os.symlink(imgPath,targetPath)\n",
    "    shutil.copy(imgPath,targetPath)\n",
    "    annIds = cocoVal.getAnnIds(imgIds=[imageId])\n",
    "    anns = cocoVal.loadAnns(annIds)\n",
    "    \n",
    "    for ann in anns:\n",
    "        objectElement = ET.Element('object')\n",
    "        thisCatId = ann[\"category_id\"]\n",
    "        if thisCatId in catIds:\n",
    "            name = getCatName(thisCatId)\n",
    "            nameElement = ET.Element('name')\n",
    "            nameElement.text = name\n",
    "            objectElement.append(nameElement)\n",
    "            bboxElement = ET.Element('bndbox')\n",
    "            bbox = ann['bbox']\n",
    "            #print(f' bounding box: {bbox}, this cat: {thisCatId}')\n",
    "            #coco use top/left coordinate, turicreate needs center\n",
    "            xminElement = ET.Element('xmin')\n",
    "            yminElement = ET.Element('ymin')\n",
    "            xmaxElement = ET.Element('xmax')\n",
    "            ymaxElement = ET.Element('ymax')\n",
    "            xminElement.text = str(bbox[0])\n",
    "            yminElement.text = str(bbox[1])\n",
    "            xmaxElement.text = str(bbox[0] + bbox[2])\n",
    "            ymaxElement.text = str(bbox[1] + bbox[3])\n",
    "            bboxElement.extend([xminElement,xmaxElement,yminElement,ymaxElement])\n",
    "            objectElement.append(bboxElement)\n",
    "            root.append(objectElement)\n",
    "    if (len(root.findall('object')) > 0):\n",
    "        imgNameStem = Path(imgName).stem\n",
    "        tree = ET.ElementTree(element=root)\n",
    "        tree.write('{}/{}.annotations'.format(exportValDir,imgNameStem))\n",
    "\n"
   ]
  },
  {
   "cell_type": "code",
   "execution_count": null,
   "metadata": {},
   "outputs": [],
   "source": []
  }
 ],
 "metadata": {
  "kernelspec": {
   "display_name": "Python 3 (ipykernel)",
   "language": "python",
   "name": "python3"
  },
  "language_info": {
   "codemirror_mode": {
    "name": "ipython",
    "version": 3
   },
   "file_extension": ".py",
   "mimetype": "text/x-python",
   "name": "python",
   "nbconvert_exporter": "python",
   "pygments_lexer": "ipython3",
   "version": "3.8.12"
  }
 },
 "nbformat": 4,
 "nbformat_minor": 2
}
